{
 "metadata": {
  "name": ""
 },
 "nbformat": 3,
 "nbformat_minor": 0,
 "worksheets": [
  {
   "cells": [
    {
     "cell_type": "markdown",
     "metadata": {},
     "source": [
      "1D Sod tube is a classic way to validate solvers for gas dynamic problem.\n",
      "\n",
      "\n",
      "It looks like"
     ]
    },
    {
     "cell_type": "code",
     "collapsed": false,
     "input": [
      "%pylab"
     ],
     "language": "python",
     "metadata": {},
     "outputs": [
      {
       "output_type": "stream",
       "stream": "stdout",
       "text": [
        "Using matplotlib backend: TkAgg\n",
        "Populating the interactive namespace from numpy and matplotlib\n"
       ]
      }
     ],
     "prompt_number": 5
    },
    {
     "cell_type": "markdown",
     "metadata": {},
     "source": [
      "To begin with, we are going to have a mesh for this problem."
     ]
    },
    {
     "cell_type": "code",
     "collapsed": false,
     "input": [
      "# the magic inline command is used for ipython notebook figure output\n",
      "# to embed the image on the page directly.\n",
      "%matplotlib inline\n",
      "import sodtube1d.generator_mesh as gmesh\n",
      "generator_mesh = gmesh.Mesher()\n",
      "generator_mesh.gen_mesh()\n",
      "mesh = generator_mesh.get_mesh()\n",
      "generator_mesh.show_mesh_ipython_nb()"
     ],
     "language": "python",
     "metadata": {},
     "outputs": [
      {
       "metadata": {},
       "output_type": "display_data",
       "png": "[encoded data removed]",
       "text": [
        "<matplotlib.figure.Figure at 0x7fdd7d253550>"
       ]
      }
     ],
     "prompt_number": 1
    },
    {
     "cell_type": "markdown",
     "metadata": {},
     "source": [
      "Let's take a look how the mesh looks like"
     ]
    },
    {
     "cell_type": "code",
     "collapsed": false,
     "input": [],
     "language": "python",
     "metadata": {},
     "outputs": []
    },
    {
     "cell_type": "markdown",
     "metadata": {},
     "source": [
      "Now we initialize the gas status for this issue."
     ]
    },
    {
     "cell_type": "code",
     "collapsed": false,
     "input": [],
     "language": "python",
     "metadata": {},
     "outputs": []
    },
    {
     "cell_type": "markdown",
     "metadata": {},
     "source": [
      "So far everything is ready and waiting for the CESE iteration. At the beginning, two mesh points are used:\n"
     ]
    },
    {
     "cell_type": "code",
     "collapsed": false,
     "input": [
      "import sodtube1d.generator_mesh as gmesh\n",
      "import sodtube1d.solver_analytic as analytic\n",
      "import sodtube1d.solver_cese as cese\n",
      "import sodtube1d.handler_data as hd\n",
      "import sodtube1d.handler_plot as hp\n",
      "\n",
      "\n",
      "analytic_solver = analytic.Solver()\n",
      "solution_analytic = analytic_solver.get_analytic_solution(mesh)\n",
      "\n",
      "solver_cese = cese.Solver()\n",
      "solution_cese = solver_cese.get_cese_solution()\n",
      "\n",
      "dm = hd.DataManager()\n",
      "pm = hp.PlotManager()\n",
      "\n",
      "pm.get_plot_solutions_fig_rho(solution_analytic, solution_cese, \"analytic rho\", \"cese rho\")\n",
      "pm.get_plot_solutions_fig_v(solution_analytic, solution_cese, \"analytic v\", \"cese v\")\n",
      "pm.get_plot_solutions_fig_p(solution_analytic, solution_cese, \"analytic p\", \"cese p\")\n",
      "pm.show_solution_comparison()"
     ],
     "language": "python",
     "metadata": {},
     "outputs": [],
     "prompt_number": 3
    },
    {
     "cell_type": "markdown",
     "metadata": {},
     "source": [
      "Then the two mesh points derive the status of a mesh point after half dt\n"
     ]
    },
    {
     "cell_type": "code",
     "collapsed": false,
     "input": [],
     "language": "python",
     "metadata": {},
     "outputs": []
    },
    {
     "cell_type": "markdown",
     "metadata": {},
     "source": [
      "The whole process will look like the following. It shows the mesh points are used when iterating\n"
     ]
    },
    {
     "cell_type": "code",
     "collapsed": false,
     "input": [],
     "language": "python",
     "metadata": {},
     "outputs": []
    },
    {
     "cell_type": "markdown",
     "metadata": {},
     "source": [
      "Now we get the status after time t. Further more, the time evolution of the status could be illistrated as the following\n"
     ]
    },
    {
     "cell_type": "code",
     "collapsed": false,
     "input": [],
     "language": "python",
     "metadata": {},
     "outputs": []
    }
   ],
   "metadata": {}
  }
 ]
}